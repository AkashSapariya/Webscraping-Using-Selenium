{
 "cells": [
  {
   "cell_type": "code",
   "execution_count": 42,
   "id": "b0bdc3f5",
   "metadata": {},
   "outputs": [
    {
     "name": "stdout",
     "output_type": "stream",
     "text": [
      "Mozilla/5.0 (compatible; MSIE 8.0; Windows NT 6.1; Trident/4.0; GTB7.4; InfoPath.2; SV1; .NET CLR 3.3.69573; WOW64; en-US)\n"
     ]
    },
    {
     "name": "stderr",
     "output_type": "stream",
     "text": [
      "C:\\Users\\parth\\AppData\\Local\\Temp\\ipykernel_14672\\2382460035.py:16: DeprecationWarning: executable_path has been deprecated, please pass in a Service object\n",
      "  driver = webdriver.Chrome('C:/Users/parth/Desktop/selenium/ch/chrome 106/chromedriver.exe', options=options)\n"
     ]
    }
   ],
   "source": [
    "import pandas as pd\n",
    "from selenium import webdriver\n",
    "from selenium.webdriver.chrome.options import Options\n",
    "from bs4 import BeautifulSoup\n",
    "\n",
    "options = Options()\n",
    "options.add_argument(\"window-size=1400,600\")\n",
    "from fake_useragent import UserAgent\n",
    "\n",
    "ua = UserAgent()\n",
    "a = ua.random\n",
    "user_agent = ua.random\n",
    "print(user_agent)\n",
    "options.add_argument(f'user-agent={user_agent}')\n",
    "\n",
    "driver = webdriver.Chrome('C:/Users/parth/Desktop/selenium/ch/chrome 106/chromedriver.exe', options=options)\n",
    "\n",
    "driver.get('https://www.immoweb.be/fr/recherche/immeuble-de-rapport/a-vendre')\n",
    "\n",
    "import time\n",
    "\n",
    "time.sleep(10)\n",
    "\n",
    "Title = []\n",
    "address = []\n",
    "price = []\n",
    "surface = []\n",
    "desc = []\n",
    "page=2\n",
    "while True:\n",
    "    time.sleep(10)\n",
    "    html = driver.page_source\n",
    "    soup = BeautifulSoup(html, 'html.parser')\n",
    "    results = soup.find_all(\"div\", {\"class\": \"result-xl\"})\n",
    "    for result in results:\n",
    "        Title.append(result.find(\"div\", {\"class\": \"title-bar-left\"}).get_text().strip())\n",
    "        address.append(result.find(\"span\", {\"result-adress\"}).get_text().strip())\n",
    "        price.append(result.find(\"div\", {\"class\": \"xl-price rangePrice\"}).get_text().strip())\n",
    "        surface.append(result.find(\"div\", {\"class\": \"xl-surface-ch\"}).get_text().strip())\n",
    "        desc.append(result.find(\"div\", {\"class\": \"xl-desc\"}).get_text().strip())\n",
    "    if len(driver.find_elements(By.XPATH, '//*[@id=\"searchResults\"]/div[3]/div/div[1]/div[1]/div[2]/div/nav/ul/li[5]/a/svg')) > 0:\n",
    "        url = \"https://www.immoweb.be/fr/recherche/immeuble-de-rapport/a-vendre/?page={}\".format(page)\n",
    "        driver.get(url)\n",
    "        page += 1\n",
    "        #It will traverse for only 5 pages as you are after if want more page just comment the below if block\n",
    "    if int(page)>5:\n",
    "        break\n",
    "    else:\n",
    "        break\n",
    "\n",
    "df = pd.DataFrame({\"Title\": Title, \"Address\": address, \"Price:\": price, \"Surface\": surface, \"Description\": desc})\n",
    "df.to_csv(\"output.csv\")"
   ]
  },
  {
   "cell_type": "code",
   "execution_count": 3,
   "id": "2c58d32f",
   "metadata": {},
   "outputs": [
    {
     "name": "stdout",
     "output_type": "stream",
     "text": [
      "Collecting fake-useragent\n",
      "  Downloading fake-useragent-0.1.11.tar.gz (13 kB)\n",
      "Building wheels for collected packages: fake-useragent\n",
      "  Building wheel for fake-useragent (setup.py): started\n",
      "  Building wheel for fake-useragent (setup.py): finished with status 'done'\n",
      "  Created wheel for fake-useragent: filename=fake_useragent-0.1.11-py3-none-any.whl size=13502 sha256=5d6d9044649f4695daef4d6db339a9d3a4dc12f9f1efd14db3054128738da4e0\n",
      "  Stored in directory: c:\\users\\parth\\appdata\\local\\pip\\cache\\wheels\\ae\\e7\\76\\7dd44644d065268ab0e1b4fa2e802fa4bb0157717b7d6c6d92\n",
      "Successfully built fake-useragent\n",
      "Installing collected packages: fake-useragent\n",
      "Successfully installed fake-useragent-0.1.11\n"
     ]
    }
   ],
   "source": [
    "# !pip install fake-useragent"
   ]
  }
 ],
 "metadata": {
  "kernelspec": {
   "display_name": "Python 3 (ipykernel)",
   "language": "python",
   "name": "python3"
  },
  "language_info": {
   "codemirror_mode": {
    "name": "ipython",
    "version": 3
   },
   "file_extension": ".py",
   "mimetype": "text/x-python",
   "name": "python",
   "nbconvert_exporter": "python",
   "pygments_lexer": "ipython3",
   "version": "3.9.12"
  }
 },
 "nbformat": 4,
 "nbformat_minor": 5
}
